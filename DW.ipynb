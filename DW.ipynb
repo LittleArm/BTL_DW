{
  "nbformat": 4,
  "nbformat_minor": 0,
  "metadata": {
    "colab": {
      "provenance": [],
      "gpuType": "T4"
    },
    "kernelspec": {
      "name": "python3",
      "display_name": "Python 3"
    },
    "language_info": {
      "name": "python"
    },
    "accelerator": "GPU",
    "widgets": {
      "application/vnd.jupyter.widget-state+json": {
        "fb18c27a43cb4756967c1981e540ff6b": {
          "model_module": "@jupyter-widgets/controls",
          "model_name": "HBoxModel",
          "model_module_version": "1.5.0",
          "state": {
            "_dom_classes": [],
            "_model_module": "@jupyter-widgets/controls",
            "_model_module_version": "1.5.0",
            "_model_name": "HBoxModel",
            "_view_count": null,
            "_view_module": "@jupyter-widgets/controls",
            "_view_module_version": "1.5.0",
            "_view_name": "HBoxView",
            "box_style": "",
            "children": [
              "IPY_MODEL_d2b606640bbb413ab0416c53f9e5bea6",
              "IPY_MODEL_463d972a2185465bb35eade24f670d21",
              "IPY_MODEL_99e47e0ae3044f9791c536762460c953"
            ],
            "layout": "IPY_MODEL_66e3f298cc794865a7b1a0b133f1f4b4"
          }
        },
        "d2b606640bbb413ab0416c53f9e5bea6": {
          "model_module": "@jupyter-widgets/controls",
          "model_name": "HTMLModel",
          "model_module_version": "1.5.0",
          "state": {
            "_dom_classes": [],
            "_model_module": "@jupyter-widgets/controls",
            "_model_module_version": "1.5.0",
            "_model_name": "HTMLModel",
            "_view_count": null,
            "_view_module": "@jupyter-widgets/controls",
            "_view_module_version": "1.5.0",
            "_view_name": "HTMLView",
            "description": "",
            "description_tooltip": null,
            "layout": "IPY_MODEL_61f5b7468d18490b907c36003a6e7ffd",
            "placeholder": "​",
            "style": "IPY_MODEL_c0652d5f948a415ea99657d34076f30a",
            "value": "Batches: 100%"
          }
        },
        "463d972a2185465bb35eade24f670d21": {
          "model_module": "@jupyter-widgets/controls",
          "model_name": "FloatProgressModel",
          "model_module_version": "1.5.0",
          "state": {
            "_dom_classes": [],
            "_model_module": "@jupyter-widgets/controls",
            "_model_module_version": "1.5.0",
            "_model_name": "FloatProgressModel",
            "_view_count": null,
            "_view_module": "@jupyter-widgets/controls",
            "_view_module_version": "1.5.0",
            "_view_name": "ProgressView",
            "bar_style": "success",
            "description": "",
            "description_tooltip": null,
            "layout": "IPY_MODEL_4e7c649d100d41f3a9411b5338f286bc",
            "max": 10467,
            "min": 0,
            "orientation": "horizontal",
            "style": "IPY_MODEL_28502ac9f37e4428827506259c26a234",
            "value": 10467
          }
        },
        "99e47e0ae3044f9791c536762460c953": {
          "model_module": "@jupyter-widgets/controls",
          "model_name": "HTMLModel",
          "model_module_version": "1.5.0",
          "state": {
            "_dom_classes": [],
            "_model_module": "@jupyter-widgets/controls",
            "_model_module_version": "1.5.0",
            "_model_name": "HTMLModel",
            "_view_count": null,
            "_view_module": "@jupyter-widgets/controls",
            "_view_module_version": "1.5.0",
            "_view_name": "HTMLView",
            "description": "",
            "description_tooltip": null,
            "layout": "IPY_MODEL_f68b315ebca44199b399f3af7706a935",
            "placeholder": "​",
            "style": "IPY_MODEL_d2090efd83f448deb964cfdf993695e3",
            "value": " 10467/10467 [02:07&lt;00:00, 115.28it/s]"
          }
        },
        "66e3f298cc794865a7b1a0b133f1f4b4": {
          "model_module": "@jupyter-widgets/base",
          "model_name": "LayoutModel",
          "model_module_version": "1.2.0",
          "state": {
            "_model_module": "@jupyter-widgets/base",
            "_model_module_version": "1.2.0",
            "_model_name": "LayoutModel",
            "_view_count": null,
            "_view_module": "@jupyter-widgets/base",
            "_view_module_version": "1.2.0",
            "_view_name": "LayoutView",
            "align_content": null,
            "align_items": null,
            "align_self": null,
            "border": null,
            "bottom": null,
            "display": null,
            "flex": null,
            "flex_flow": null,
            "grid_area": null,
            "grid_auto_columns": null,
            "grid_auto_flow": null,
            "grid_auto_rows": null,
            "grid_column": null,
            "grid_gap": null,
            "grid_row": null,
            "grid_template_areas": null,
            "grid_template_columns": null,
            "grid_template_rows": null,
            "height": null,
            "justify_content": null,
            "justify_items": null,
            "left": null,
            "margin": null,
            "max_height": null,
            "max_width": null,
            "min_height": null,
            "min_width": null,
            "object_fit": null,
            "object_position": null,
            "order": null,
            "overflow": null,
            "overflow_x": null,
            "overflow_y": null,
            "padding": null,
            "right": null,
            "top": null,
            "visibility": null,
            "width": null
          }
        },
        "61f5b7468d18490b907c36003a6e7ffd": {
          "model_module": "@jupyter-widgets/base",
          "model_name": "LayoutModel",
          "model_module_version": "1.2.0",
          "state": {
            "_model_module": "@jupyter-widgets/base",
            "_model_module_version": "1.2.0",
            "_model_name": "LayoutModel",
            "_view_count": null,
            "_view_module": "@jupyter-widgets/base",
            "_view_module_version": "1.2.0",
            "_view_name": "LayoutView",
            "align_content": null,
            "align_items": null,
            "align_self": null,
            "border": null,
            "bottom": null,
            "display": null,
            "flex": null,
            "flex_flow": null,
            "grid_area": null,
            "grid_auto_columns": null,
            "grid_auto_flow": null,
            "grid_auto_rows": null,
            "grid_column": null,
            "grid_gap": null,
            "grid_row": null,
            "grid_template_areas": null,
            "grid_template_columns": null,
            "grid_template_rows": null,
            "height": null,
            "justify_content": null,
            "justify_items": null,
            "left": null,
            "margin": null,
            "max_height": null,
            "max_width": null,
            "min_height": null,
            "min_width": null,
            "object_fit": null,
            "object_position": null,
            "order": null,
            "overflow": null,
            "overflow_x": null,
            "overflow_y": null,
            "padding": null,
            "right": null,
            "top": null,
            "visibility": null,
            "width": null
          }
        },
        "c0652d5f948a415ea99657d34076f30a": {
          "model_module": "@jupyter-widgets/controls",
          "model_name": "DescriptionStyleModel",
          "model_module_version": "1.5.0",
          "state": {
            "_model_module": "@jupyter-widgets/controls",
            "_model_module_version": "1.5.0",
            "_model_name": "DescriptionStyleModel",
            "_view_count": null,
            "_view_module": "@jupyter-widgets/base",
            "_view_module_version": "1.2.0",
            "_view_name": "StyleView",
            "description_width": ""
          }
        },
        "4e7c649d100d41f3a9411b5338f286bc": {
          "model_module": "@jupyter-widgets/base",
          "model_name": "LayoutModel",
          "model_module_version": "1.2.0",
          "state": {
            "_model_module": "@jupyter-widgets/base",
            "_model_module_version": "1.2.0",
            "_model_name": "LayoutModel",
            "_view_count": null,
            "_view_module": "@jupyter-widgets/base",
            "_view_module_version": "1.2.0",
            "_view_name": "LayoutView",
            "align_content": null,
            "align_items": null,
            "align_self": null,
            "border": null,
            "bottom": null,
            "display": null,
            "flex": null,
            "flex_flow": null,
            "grid_area": null,
            "grid_auto_columns": null,
            "grid_auto_flow": null,
            "grid_auto_rows": null,
            "grid_column": null,
            "grid_gap": null,
            "grid_row": null,
            "grid_template_areas": null,
            "grid_template_columns": null,
            "grid_template_rows": null,
            "height": null,
            "justify_content": null,
            "justify_items": null,
            "left": null,
            "margin": null,
            "max_height": null,
            "max_width": null,
            "min_height": null,
            "min_width": null,
            "object_fit": null,
            "object_position": null,
            "order": null,
            "overflow": null,
            "overflow_x": null,
            "overflow_y": null,
            "padding": null,
            "right": null,
            "top": null,
            "visibility": null,
            "width": null
          }
        },
        "28502ac9f37e4428827506259c26a234": {
          "model_module": "@jupyter-widgets/controls",
          "model_name": "ProgressStyleModel",
          "model_module_version": "1.5.0",
          "state": {
            "_model_module": "@jupyter-widgets/controls",
            "_model_module_version": "1.5.0",
            "_model_name": "ProgressStyleModel",
            "_view_count": null,
            "_view_module": "@jupyter-widgets/base",
            "_view_module_version": "1.2.0",
            "_view_name": "StyleView",
            "bar_color": null,
            "description_width": ""
          }
        },
        "f68b315ebca44199b399f3af7706a935": {
          "model_module": "@jupyter-widgets/base",
          "model_name": "LayoutModel",
          "model_module_version": "1.2.0",
          "state": {
            "_model_module": "@jupyter-widgets/base",
            "_model_module_version": "1.2.0",
            "_model_name": "LayoutModel",
            "_view_count": null,
            "_view_module": "@jupyter-widgets/base",
            "_view_module_version": "1.2.0",
            "_view_name": "LayoutView",
            "align_content": null,
            "align_items": null,
            "align_self": null,
            "border": null,
            "bottom": null,
            "display": null,
            "flex": null,
            "flex_flow": null,
            "grid_area": null,
            "grid_auto_columns": null,
            "grid_auto_flow": null,
            "grid_auto_rows": null,
            "grid_column": null,
            "grid_gap": null,
            "grid_row": null,
            "grid_template_areas": null,
            "grid_template_columns": null,
            "grid_template_rows": null,
            "height": null,
            "justify_content": null,
            "justify_items": null,
            "left": null,
            "margin": null,
            "max_height": null,
            "max_width": null,
            "min_height": null,
            "min_width": null,
            "object_fit": null,
            "object_position": null,
            "order": null,
            "overflow": null,
            "overflow_x": null,
            "overflow_y": null,
            "padding": null,
            "right": null,
            "top": null,
            "visibility": null,
            "width": null
          }
        },
        "d2090efd83f448deb964cfdf993695e3": {
          "model_module": "@jupyter-widgets/controls",
          "model_name": "DescriptionStyleModel",
          "model_module_version": "1.5.0",
          "state": {
            "_model_module": "@jupyter-widgets/controls",
            "_model_module_version": "1.5.0",
            "_model_name": "DescriptionStyleModel",
            "_view_count": null,
            "_view_module": "@jupyter-widgets/base",
            "_view_module_version": "1.2.0",
            "_view_name": "StyleView",
            "description_width": ""
          }
        }
      }
    }
  },
  "cells": [
    {
      "cell_type": "code",
      "source": [
        "!pip uninstall -y numpy\n",
        "!pip install \"numpy<2.0\" --no-cache-dir --force-reinstall"
      ],
      "metadata": {
        "id": "GNLmlrOvNvk9",
        "colab": {
          "base_uri": "https://localhost:8080/"
        },
        "outputId": "27e0cc53-9dc0-4e8e-edfe-8d3f9de38451"
      },
      "execution_count": 1,
      "outputs": [
        {
          "output_type": "stream",
          "name": "stdout",
          "text": [
            "Found existing installation: numpy 2.0.2\n",
            "Uninstalling numpy-2.0.2:\n",
            "  Successfully uninstalled numpy-2.0.2\n",
            "Collecting numpy<2.0\n",
            "  Downloading numpy-1.26.4-cp311-cp311-manylinux_2_17_x86_64.manylinux2014_x86_64.whl.metadata (61 kB)\n",
            "\u001b[2K     \u001b[90m━━━━━━━━━━━━━━━━━━━━━━━━━━━━━━━━━━━━━━━━\u001b[0m \u001b[32m61.0/61.0 kB\u001b[0m \u001b[31m81.0 MB/s\u001b[0m eta \u001b[36m0:00:00\u001b[0m\n",
            "\u001b[?25hDownloading numpy-1.26.4-cp311-cp311-manylinux_2_17_x86_64.manylinux2014_x86_64.whl (18.3 MB)\n",
            "\u001b[2K   \u001b[90m━━━━━━━━━━━━━━━━━━━━━━━━━━━━━━━━━━━━━━━━\u001b[0m \u001b[32m18.3/18.3 MB\u001b[0m \u001b[31m134.4 MB/s\u001b[0m eta \u001b[36m0:00:00\u001b[0m\n",
            "\u001b[?25hInstalling collected packages: numpy\n",
            "Successfully installed numpy-1.26.4\n"
          ]
        }
      ]
    },
    {
      "cell_type": "code",
      "source": [
        "import numpy as np\n",
        "print(np.__version__)"
      ],
      "metadata": {
        "colab": {
          "base_uri": "https://localhost:8080/"
        },
        "id": "CZraHQ28ScP6",
        "outputId": "f8d92f96-d0ac-471b-a691-5ac78a2c763b"
      },
      "execution_count": 1,
      "outputs": [
        {
          "output_type": "stream",
          "name": "stdout",
          "text": [
            "1.26.4\n"
          ]
        }
      ]
    },
    {
      "cell_type": "code",
      "execution_count": 2,
      "metadata": {
        "colab": {
          "base_uri": "https://localhost:8080/"
        },
        "id": "6V36L7sWKjis",
        "outputId": "405cabc4-ecbe-4490-f207-81b0181b90bd"
      },
      "outputs": [
        {
          "output_type": "stream",
          "name": "stdout",
          "text": [
            "CUDA available: True\n"
          ]
        }
      ],
      "source": [
        "import torch\n",
        "print(\"CUDA available:\", torch.cuda.is_available())"
      ]
    },
    {
      "cell_type": "code",
      "source": [
        "!pip install -q condacolab\n",
        "import condacolab\n",
        "condacolab.install()"
      ],
      "metadata": {
        "colab": {
          "base_uri": "https://localhost:8080/"
        },
        "id": "Q6LgcdGeK5uA",
        "outputId": "4fa5eb93-75ea-4f32-b9f1-e31673024e0d"
      },
      "execution_count": 3,
      "outputs": [
        {
          "output_type": "stream",
          "name": "stdout",
          "text": [
            "⏬ Downloading https://github.com/jaimergp/miniforge/releases/download/24.11.2-1_colab/Miniforge3-colab-24.11.2-1_colab-Linux-x86_64.sh...\n",
            "📦 Installing...\n",
            "📌 Adjusting configuration...\n",
            "🩹 Patching environment...\n",
            "⏲ Done in 0:00:12\n",
            "🔁 Restarting kernel...\n"
          ]
        }
      ]
    },
    {
      "cell_type": "code",
      "source": [
        "!conda install -c pytorch faiss-gpu -y"
      ],
      "metadata": {
        "id": "ywS2IgtyK7RD",
        "colab": {
          "base_uri": "https://localhost:8080/"
        },
        "outputId": "f6b0d1d9-22cc-4830-e3b2-4c8de4f8c67c"
      },
      "execution_count": 2,
      "outputs": [
        {
          "output_type": "stream",
          "name": "stdout",
          "text": [
            "Channels:\n",
            " - pytorch\n",
            " - conda-forge\n",
            "Platform: linux-64\n",
            "Collecting package metadata (repodata.json): - \b\b\\ \b\b| \b\b/ \b\b- \b\b\\ \b\b| \b\b/ \b\bdone\n",
            "Solving environment: \\ \b\b| \b\b/ \b\bdone\n",
            "\n",
            "\n",
            "==> WARNING: A newer version of conda exists. <==\n",
            "    current version: 24.11.3\n",
            "    latest version: 25.3.1\n",
            "\n",
            "Please update conda by running\n",
            "\n",
            "    $ conda update -n base -c conda-forge conda\n",
            "\n",
            "\n",
            "\n",
            "# All requested packages already installed.\n",
            "\n"
          ]
        }
      ]
    },
    {
      "cell_type": "code",
      "source": [
        "import os\n",
        "import pandas as pd\n",
        "import numpy as np\n",
        "import faiss\n",
        "import re\n",
        "import torch\n",
        "import psycopg2\n",
        "import io\n",
        "from sentence_transformers import SentenceTransformer\n",
        "from google.colab import drive\n",
        "from google.colab import auth"
      ],
      "metadata": {
        "id": "Cq36hE6FLIy1"
      },
      "execution_count": 3,
      "outputs": []
    },
    {
      "cell_type": "code",
      "source": [
        "import pickle"
      ],
      "metadata": {
        "id": "AahLdwwWyDVW"
      },
      "execution_count": 5,
      "outputs": []
    },
    {
      "cell_type": "code",
      "source": [
        "device = \"cuda\" if torch.cuda.is_available() else \"cpu\"\n",
        "print(device)"
      ],
      "metadata": {
        "id": "FUIfI5i1LJ-B",
        "colab": {
          "base_uri": "https://localhost:8080/"
        },
        "outputId": "dc037456-9933-4c12-d429-32299c427661"
      },
      "execution_count": 4,
      "outputs": [
        {
          "output_type": "stream",
          "name": "stdout",
          "text": [
            "cuda\n"
          ]
        }
      ]
    },
    {
      "cell_type": "code",
      "source": [
        "!curl ifconfig.me"
      ],
      "metadata": {
        "colab": {
          "base_uri": "https://localhost:8080/"
        },
        "id": "3PNytLNU7fEQ",
        "outputId": "8d931cb3-4920-4a04-804b-7ddd7c0232eb"
      },
      "execution_count": 6,
      "outputs": [
        {
          "output_type": "stream",
          "name": "stdout",
          "text": [
            "curl: /usr/local/lib/libcurl.so.4: no version information available (required by curl)\n",
            "35.240.167.120"
          ]
        }
      ]
    },
    {
      "cell_type": "code",
      "source": [
        "# Mount Google Drive\n",
        "drive.mount('/content/drive')\n",
        "\n",
        "# 🔹 Đường dẫn thư mục trên Google Drive\n",
        "DATA_DIR = \"/content/drive/MyDrive/amazon_data\"\n",
        "os.makedirs(DATA_DIR, exist_ok=True)\n",
        "\n",
        "CSV_FILE = os.path.join(DATA_DIR, \"amazon.csv\")\n",
        "EMBEDDING_FILE = os.path.join(DATA_DIR, \"embeddings.npy\")\n",
        "FAISS_INDEX_FILE = os.path.join(DATA_DIR, \"faiss_index.bin\")\n",
        "\n",
        "# 🔹 Thông tin kết nối PostgreSQL\n",
        "DB_CONFIG = {\n",
        "    \"dbname\": \"your_database\",\n",
        "    \"user\": \"your_user\",\n",
        "    \"password\": \"your_password\",\n",
        "    \"host\": \"localhost\",\n",
        "    \"port\": \"5432\"\n",
        "}\n",
        "\n",
        "def connect_db():\n",
        "    \"\"\" Kết nối PostgreSQL trên Google Cloud SQL \"\"\"\n",
        "    try:\n",
        "        conn = psycopg2.connect(**DB_CONFIG)\n",
        "        conn.autocommit = True\n",
        "        print(\"✅ Database conntected successfully.\")\n",
        "        return conn\n",
        "    except psycopg2.Error as e:\n",
        "        print(f\"❌ Lỗi kết nối PostgreSQL: {e}\")\n",
        "        return None\n",
        "\n",
        "# 🔹 Tạo bảng trong Cloud SQL\n",
        "def create_tables(conn):\n",
        "    \"\"\" Tạo bảng theo Star Schema \"\"\"\n",
        "    with conn.cursor() as cur:\n",
        "        cur.execute(\"\"\"\n",
        "        DROP TABLE IF EXISTS fact_reviews, dim_products, dim_categories CASCADE;\n",
        "\n",
        "        CREATE TABLE dim_categories (\n",
        "            category_id SERIAL PRIMARY KEY,\n",
        "            main_category TEXT NOT NULL,\n",
        "            sub_category TEXT NOT NULL,\n",
        "            UNIQUE(main_category, sub_category)\n",
        "        );\n",
        "\n",
        "        CREATE TABLE dim_products (\n",
        "            product_id SERIAL PRIMARY KEY,\n",
        "            name TEXT NOT NULL,\n",
        "            category_id INT REFERENCES dim_categories(category_id),\n",
        "            image TEXT,\n",
        "            link TEXT,\n",
        "            UNIQUE(name, category_id)\n",
        "        );\n",
        "\n",
        "        CREATE TABLE fact_reviews (\n",
        "            review_id SERIAL PRIMARY KEY,\n",
        "            product_id INT REFERENCES dim_products(product_id),\n",
        "            rating NUMERIC(3,2),\n",
        "            rating_count INT,\n",
        "            actual_price NUMERIC(12,2),\n",
        "            discount_price NUMERIC(12,2)\n",
        "        );\n",
        "        \"\"\")\n",
        "        print(\"✅ Tables created successfully.\")\n",
        "\n",
        "def clean_data(df):\n",
        "    \"\"\"Làm sạch và chuẩn hóa dữ liệu từ CSV\"\"\"\n",
        "    df = df.copy()\n",
        "\n",
        "    # Chuẩn hóa tên cột\n",
        "    df[\"main_category\"] = df[\"main_category\"].astype(str).str.strip().str.title()\n",
        "    df[\"sub_category\"] = df[\"sub_category\"].astype(str).str.strip().str.title()\n",
        "    df[\"name\"] = df[\"name\"].astype(str).str.strip()\n",
        "\n",
        "    # Xóa ký tự ₹ và dấu phẩy trong giá tiền, chuyển thành số\n",
        "    def safe_float_convert(value):\n",
        "        try:\n",
        "            return float(re.sub(r\"[₹,]\", \"\", str(value))) if value not in [\"\", \"nan\", None] else None\n",
        "        except ValueError:\n",
        "            return None\n",
        "\n",
        "    df[\"actual_price\"] = df[\"actual_price\"].apply(safe_float_convert)\n",
        "    df[\"discount_price\"] = df[\"discount_price\"].apply(safe_float_convert)\n",
        "\n",
        "    # Làm sạch cột no_of_ratings\n",
        "    def clean_ratings(value):\n",
        "        if isinstance(value, str) and value.replace(\",\", \"\").isdigit():\n",
        "            return int(value.replace(\",\", \"\"))\n",
        "        return None  # Trả về None thay vì 0 để lọc bỏ khi dropna\n",
        "\n",
        "    df[\"no_of_ratings\"] = df[\"no_of_ratings\"].apply(clean_ratings)\n",
        "\n",
        "    # Làm sạch cột ratings\n",
        "    def clean_ratings_value(value):\n",
        "        try:\n",
        "            return float(value)\n",
        "        except (ValueError, TypeError):\n",
        "            return None  # Trả về None thay vì 0 để lọc bỏ khi dropna\n",
        "\n",
        "    df[\"ratings\"] = df[\"ratings\"].apply(clean_ratings_value)\n",
        "\n",
        "    # 🔹 Loại bỏ hàng có NaN ở các cột quan trọng\n",
        "    df = df.dropna(subset=[\"actual_price\", \"discount_price\", \"ratings\", \"no_of_ratings\"])\n",
        "\n",
        "    return df\n",
        "\n",
        "\n",
        "def refactor_data(df):\n",
        "    \"\"\" Refactor data without importing from PostgreSQL \"\"\"\n",
        "\n",
        "    # 🔹 Simulate category mapping\n",
        "    category_map = {\n",
        "        f\"{row['main_category']}|{row['sub_category']}\": idx\n",
        "        for idx, row in enumerate(df[[\"main_category\", \"sub_category\"]].drop_duplicates().to_dict(orient=\"records\"), start=1)\n",
        "    }\n",
        "\n",
        "    df[\"category_id\"] = df.apply(lambda x: category_map.get(f\"{x['main_category']}|{x['sub_category']}\"), axis=1)\n",
        "    df = df.dropna(subset=[\"category_id\"])\n",
        "\n",
        "    # 🔹 Simulate product mapping\n",
        "    product_map = {\n",
        "        row[\"name\"].lower(): idx\n",
        "        for idx, row in enumerate(df[[\"name\"]].drop_duplicates().to_dict(orient=\"records\"), start=1)\n",
        "    }\n",
        "\n",
        "    df[\"product_id\"] = df[\"name\"].str.lower().map(product_map)\n",
        "    df = df.dropna(subset=[\"product_id\"])\n",
        "\n",
        "    print(\"✅ Data refactored successfully.\")\n",
        "    return df\n",
        "\n",
        "def import_data(conn, df):\n",
        "    \"\"\" Nhập dữ liệu vào PostgreSQL \"\"\"\n",
        "    with conn.cursor() as cur:\n",
        "        # 🔹 Chèn dữ liệu vào dim_categories\n",
        "        cur.executemany(\"\"\"\n",
        "        INSERT INTO dim_categories (main_category, sub_category)\n",
        "        VALUES (%s, %s) ON CONFLICT DO NOTHING;\n",
        "        \"\"\", df[[\"main_category\", \"sub_category\"]].drop_duplicates().values.tolist())\n",
        "\n",
        "        # 🔹 Lấy category_id từ PostgreSQL\n",
        "        cur.execute(\"SELECT category_id, main_category, sub_category FROM dim_categories;\")\n",
        "        category_map = {f\"{row[1]}|{row[2]}\": row[0] for row in cur.fetchall()}\n",
        "        df[\"category_id\"] = df.apply(lambda x: category_map.get(f\"{x['main_category']}|{x['sub_category']}\", None), axis=1)\n",
        "        df = df.dropna(subset=[\"category_id\"])\n",
        "\n",
        "        # 🔹 Chèn dữ liệu vào dim_products\n",
        "        cur.executemany(\"\"\"\n",
        "        INSERT INTO dim_products (name, category_id, image, link)\n",
        "        VALUES (%s, %s, %s, %s) ON CONFLICT DO NOTHING;\n",
        "        \"\"\", df[[\"name\", \"category_id\", \"image\", \"link\"]].drop_duplicates().values.tolist())\n",
        "\n",
        "        # 🔹 Lấy product_id từ PostgreSQL\n",
        "        cur.execute(\"SELECT product_id, LOWER(name) FROM dim_products;\")\n",
        "        product_map = {row[1]: row[0] for row in cur.fetchall()}\n",
        "        df[\"product_id\"] = df[\"name\"].str.lower().map(product_map)\n",
        "        df = df.dropna(subset=[\"product_id\"])\n",
        "\n",
        "        # 🔹 Chèn dữ liệu vào fact_reviews\n",
        "        cur.executemany(\"\"\"\n",
        "        INSERT INTO fact_reviews (product_id, rating, rating_count, actual_price, discount_price)\n",
        "        VALUES (%s, %s, %s, %s, %s);\n",
        "        \"\"\", df[[\"product_id\", \"ratings\", \"no_of_ratings\", \"actual_price\", \"discount_price\"]].values.tolist())\n",
        "\n",
        "        print(\"✅ Data imported successfully.\")\n",
        "        return df\n",
        "\n",
        "def create_faiss_index(df):\n",
        "    \"\"\"Tạo FAISS index từ dữ liệu\"\"\"\n",
        "    device = \"cuda\" if torch.cuda.is_available() else \"cpu\"\n",
        "    model = SentenceTransformer('all-MiniLM-L6-v2').to(device)\n",
        "\n",
        "    print(\"🔹 Đang tạo embeddings...\")\n",
        "    all_embeddings = model.encode(df[\"name\"].str.lower().tolist(), device=device, show_progress_bar=True).astype('float32')\n",
        "    np.save(EMBEDDING_FILE, all_embeddings)\n",
        "\n",
        "    dimension = all_embeddings.shape[1]\n",
        "\n",
        "    # FAISS setup\n",
        "    index = faiss.IndexFlatL2(dimension)\n",
        "    if torch.cuda.is_available():\n",
        "        res = faiss.StandardGpuResources()\n",
        "        index = faiss.index_cpu_to_gpu(res, 0, index)\n",
        "\n",
        "    index.add(all_embeddings)\n",
        "    index = faiss.index_gpu_to_cpu(index)\n",
        "    faiss.write_index(index, FAISS_INDEX_FILE)\n",
        "    print(f\"✅ FAISS index đã lưu tại {FAISS_INDEX_FILE}\")\n",
        "\n",
        "    # 🔹 Load lại FAISS index để kiểm tra\n",
        "    index = faiss.read_index(FAISS_INDEX_FILE)\n",
        "    if torch.cuda.is_available():\n",
        "        gpu_index = faiss.index_cpu_to_gpu(res, 0, index)\n",
        "    else:\n",
        "        gpu_index = index\n",
        "\n",
        "    # 🔹 Truy vấn thử nghiệm\n",
        "    query = \"iphone 13\"\n",
        "    query_embedding = model.encode([query], device=device).astype('float32')\n",
        "    gpu_index.nprobe = 10  # Tăng nprobe để cải thiện độ chính xác\n",
        "\n",
        "    k = 10\n",
        "    distances, indices = gpu_index.search(query_embedding, k)\n",
        "\n",
        "    print(f\"🔍 Kết quả tìm kiếm cho '{query}':\")\n",
        "    for i in range(k):\n",
        "        idx = indices[0][i]\n",
        "        if idx < len(df):  # Kiểm tra chỉ số hợp lệ\n",
        "            print(f\"{i+1}. {df['name'].iloc[idx]} (Khoảng cách: {distances[0][i]:.4f})\")\n",
        "\n",
        "    return FAISS_INDEX_FILE\n",
        "\n",
        "def main():\n",
        "    # conn = connect_db()\n",
        "    # if not conn:\n",
        "    #     return\n",
        "\n",
        "    # create_tables(conn)\n",
        "\n",
        "    df = pd.read_csv(CSV_FILE, encoding=\"utf-8\")\n",
        "    # 🔹 Làm sạch dữ liệu\n",
        "    df_cleaned = clean_data(df)\n",
        "\n",
        "    # # 🔹 Import data\n",
        "    # df_final = import_data(conn, df_cleaned)\n",
        "\n",
        "    # 🔹 Xử lý dữ liệu giống như khi import\n",
        "    df_final = refactor_data(df_cleaned)\n",
        "\n",
        "    # 🔹 Tạo FAISS index\n",
        "    faiss_index_path = create_faiss_index(df_final)\n",
        "\n",
        "    # conn.close()\n",
        "    print(\"✅ Hoàn tất quá trình xử lý!\")\n",
        "\n",
        "if __name__ == \"__main__\":\n",
        "    main()"
      ],
      "metadata": {
        "id": "YmYEoAPRLLJR",
        "colab": {
          "base_uri": "https://localhost:8080/",
          "height": 347,
          "referenced_widgets": [
            "fb18c27a43cb4756967c1981e540ff6b",
            "d2b606640bbb413ab0416c53f9e5bea6",
            "463d972a2185465bb35eade24f670d21",
            "99e47e0ae3044f9791c536762460c953",
            "66e3f298cc794865a7b1a0b133f1f4b4",
            "61f5b7468d18490b907c36003a6e7ffd",
            "c0652d5f948a415ea99657d34076f30a",
            "4e7c649d100d41f3a9411b5338f286bc",
            "28502ac9f37e4428827506259c26a234",
            "f68b315ebca44199b399f3af7706a935",
            "d2090efd83f448deb964cfdf993695e3"
          ]
        },
        "outputId": "bbeae639-e8f0-4492-f1fd-f7da50b0fccc"
      },
      "execution_count": 9,
      "outputs": [
        {
          "output_type": "stream",
          "name": "stdout",
          "text": [
            "Drive already mounted at /content/drive; to attempt to forcibly remount, call drive.mount(\"/content/drive\", force_remount=True).\n",
            "✅ Data refactored successfully.\n",
            "🔹 Đang tạo embeddings...\n"
          ]
        },
        {
          "output_type": "display_data",
          "data": {
            "text/plain": [
              "Batches:   0%|          | 0/10467 [00:00<?, ?it/s]"
            ],
            "application/vnd.jupyter.widget-view+json": {
              "version_major": 2,
              "version_minor": 0,
              "model_id": "fb18c27a43cb4756967c1981e540ff6b"
            }
          },
          "metadata": {}
        },
        {
          "output_type": "stream",
          "name": "stdout",
          "text": [
            "✅ FAISS index đã lưu tại /content/drive/MyDrive/amazon_data/faiss_index.bin\n",
            "🔍 Kết quả tìm kiếm cho 'iphone 13':\n",
            "1. Apple iPhone 13 (256GB) - Midnight (Khoảng cách: 0.6427)\n",
            "2. Apple iPhone 13 (128GB) - Midnight (Khoảng cách: 0.6601)\n",
            "3. Apple iPhone 13 (256GB) - Blue (Khoảng cách: 0.7729)\n",
            "4. Pinnaclz Speed 350IP Combo of USB to Lightning Fast Charging and Data Sync Cable Compatible for iPhone 13, 12,11, X, 8, 7,... (Khoảng cách: 0.7774)\n",
            "5. Apple iPhone 13 (128GB) - Blue (Khoảng cách: 0.7834)\n",
            "6. Apple iPhone 13 (128GB) - Blue (Khoảng cách: 0.7834)\n",
            "7. SupCares Edge to Edge Privacy Tempered Glass for iPhone 14, iPhone 13 and iPhone 13 Pro (6.1 Inch) with Easy Self Installa... (Khoảng cách: 0.7909)\n",
            "8. Sounce Fast Phone Charging Cable & Data Sync USB Cable Compatible for iPhone 13, 12,11, X, 8, 7, 6, 5, iPad Air, Pro, Mini... (Khoảng cách: 0.7948)\n",
            "9. Sounce Fast Phone Charging Cable & Data Sync USB Cable Compatible for iPhone 13, 12,11, X, 8, 7, 6, 5, iPad Air, Pro, Mini... (Khoảng cách: 0.7948)\n",
            "10. Wayona Nylon Braided (2 Pack) Lightning to USB Syncing and Fast Charging Data Cable Compatible for iPhone 13, 12, 11, X, ... (Khoảng cách: 0.8100)\n",
            "✅ Hoàn tất quá trình xử lý!\n"
          ]
        }
      ]
    }
  ]
}